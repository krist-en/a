{
 "cells": [
  {
   "cell_type": "markdown",
   "metadata": {
    "tags": []
   },
   "source": [
    "# Nonlinear least squares (with one parameter)\n",
    "### This code estimates the model $$y_t = \\theta^{x_t} + \\varepsilon_t$$ using a NLS estimator. "
   ],
   "id": "fbfb8ddab1e4c28e"
  },
  {
   "cell_type": "code",
   "execution_count": 1,
   "metadata": {
    "tags": []
   },
   "outputs": [
    {
     "name": "stdout",
     "output_type": "stream",
     "text": [
      "3.8.5\n"
     ]
    },
    {
     "data": {
      "text/plain": [
       "'/Users/Fbandi/Dropbox/nonlineareconometrics2024/FEDERICO/Python_codes'"
      ]
     },
     "execution_count": 1,
     "metadata": {},
     "output_type": "execute_result"
    }
   ],
   "source": [
    "import os\n",
    "from platform import python_version\n",
    "import pandas as pd\n",
    "import numpy as np\n",
    "import matplotlib.pyplot as plt\n",
    "import scipy.optimize\n",
    "\n",
    "# The recommended python version is 3.8 or 3.9\n",
    "print(python_version())\n",
    "# Check current directory\n",
    "os.getcwd()\n"
   ],
   "id": "8abbcda1866d40b7"
  },
  {
   "cell_type": "markdown",
   "metadata": {},
   "source": [
    "### We are simulating the data. We will set the parameter value as being equal to $2$ and both $x_t$ and $e_t$ as being normal with certain means and variances. Given the parameter value, $x_t$ and $e_t$, the model will yield $y_t.$ Of course, all quantities can be easily modified. "
   ],
   "id": "d66f4586e68b0250"
  },
  {
   "cell_type": "code",
   "execution_count": 2,
   "metadata": {},
   "outputs": [],
   "source": [
    "# sample size\n",
    "sample_size = 1000        # Choose the number of observations in the sample - you can increase the number to see if the LLN works\n",
    "\n",
    "# population parameters\n",
    "mean_of_x = 2             # mean of the regressor\n",
    "variance_of_x = 4         # variance of the regressor\n",
    "variance_of_e = 1000      # variance of the residual\n",
    "\n",
    "# The parameter value\n",
    "theta = 2\n",
    "\n",
    "# generate x as a sample from the Normal distribution\n",
    "x = np.random.normal(mean_of_x, np.sqrt(variance_of_x), sample_size)\n",
    "\n",
    "# generate the residuals as a sample from Normal distribution\n",
    "e = np.random.normal(0, np.sqrt(variance_of_e), sample_size)\n",
    "\n",
    "# generate y using the formula\n",
    "y =  theta**x + e"
   ],
   "id": "3fb90c671bc058ec"
  },
  {
   "cell_type": "markdown",
   "metadata": {},
   "source": [
    "### Let us look at the data first. We want to make sure that we have generated enough dispersion (through the variance of the residuals) around the curve. In other words, we do not want all of the observations y and x to exactly sit on a curve. We want the model to be realistic."
   ],
   "id": "c752b5db4ceeabf0"
  },
  {
   "cell_type": "code",
   "execution_count": 3,
   "metadata": {
    "tags": []
   },
   "outputs": [
    {
     "data": {
      "text/plain": [
       "Text(0.5, 1.0, 'A scatterplot of the data')"
      ]
     },
     "execution_count": 3,
     "metadata": {},
     "output_type": "execute_result"
    },
    {
     "data": {
      "image/png": "[encoded data removed]",
      "text/plain": [
       "<Figure size 504x504 with 1 Axes>"
      ]
     },
     "metadata": {
      "needs_background": "light"
     },
     "output_type": "display_data"
    }
   ],
   "source": [
    "# Adjust the plot size on your computer\n",
    "plt.rcParams['figure.figsize'] = [7, 7]\n",
    "\n",
    "# A scatterplot with matplotlib\n",
    "plt.xlabel('x')\n",
    "plt.ylabel('y')\n",
    "plt.scatter(x, y) \n",
    "plt.scatter(x, theta**x, color = 'red')\n",
    "plt.title('A scatterplot of the data')"
   ],
   "id": "9d0a235df38f2186"
  },
  {
   "cell_type": "markdown",
   "metadata": {},
   "source": [
    "### Now that we have the data, we are ready to begin. Let us go step by step.\n",
    "\n",
    "### (1) We define the least-squares criterion in a `Python function` called `nls`. The criterion is:\n",
    "\n",
    "\\begin{eqnarray*}\n",
    "&&\\frac{1}{T} \\sum_{t=1}^T \\varepsilon_t^2 \\\\\n",
    "&=& \\frac{1}{T} \\sum_{t=1}^T  \\left(y_t  - \\theta^{x_t} \\right)^2.\\\\\n",
    "\\end{eqnarray*}"
   ],
   "id": "2e924047e9f70cb1"
  },
  {
   "cell_type": "code",
   "execution_count": 4,
   "metadata": {
    "scrolled": true,
    "tags": []
   },
   "outputs": [],
   "source": [
    "def nls(parameter, y, x):\n",
    "    f =  np.mean( (y -  parameter** x )**2  )\n",
    "    return f"
   ],
   "id": "8ca649d4c30e10df"
  },
  {
   "cell_type": "markdown",
   "metadata": {},
   "source": [
    "### (2) We now minimize the function with respect to $\\theta:$\n",
    "\n",
    "\\begin{eqnarray*}\n",
    "\\widehat{\\theta} &=& \\arg\\min_{\\theta}  \\frac{1}{T} \\sum_{t=1}^T \\varepsilon_t^2 \\\\\n",
    "&=&  \\arg\\min_{\\theta} \\frac{1}{T} \\sum_{t=1}^T  \\left(y_t  - \\theta^{x_t} \\right)^2\\\\\n",
    "\\end{eqnarray*}\n",
    "\n",
    "### In order to do so we have to feed the function into a minimizer: another function which will compute the minimum of the criterion. A possible function is `scipy.optimize.fmin`. \n",
    "\n",
    "The inputs of the `scipy.optimize.fmin` function are:\n",
    "\n",
    "1. `func`. The function to minimize - in our case `nls` - as defined in the previous snippet.\n",
    "2. `x0`. The initial guess of the parameters $\\theta$: `initial_guess`. This is just our initial guess of the parameter for evaluating the function `nls` at the beginning of the minimization.\n",
    "3. `args`. The arguments of the `nls` function that are not parameters. For our problem, these are the data $y_t,x_t$ with $t=1,\\cdots, T$, contained in `y` and `x`, respectively.\n",
    "\n",
    "Additional inputs that are optional:\n",
    "\n",
    "4. `xtol` and `ftol`. This is the tolerance for the minimizer and the function evaluation, respectively. The algorithm will stop automatically when it cannot find another minimizer that is smaller by at least `xtol` than the current one. Same as for the function evaluation. \n",
    "5. `maxiter`. The maximum number of iterations to try. The algorithm stops if it reaches `maxiter` attempts, even if it did not find a minimum.\n",
    "6. `disp`. A variable indicating whether we want to see some results or not. `disp=0` will not show results, `disp=1` will provide additional information."
   ],
   "id": "b12e8d1f35c55e6a"
  },
  {
   "cell_type": "code",
   "execution_count": 5,
   "metadata": {
    "tags": []
   },
   "outputs": [
    {
     "name": "stdout",
     "output_type": "stream",
     "text": [
      "The parameter estimate is 2.005\n"
     ]
    }
   ],
   "source": [
    "initial_guess = 1\n",
    "estimates = scipy.optimize.fmin(func=nls, \n",
    "                                x0=initial_guess, \n",
    "                                args=(y, x), \n",
    "                                xtol=1e-5, \n",
    "                                ftol=1e-5, \n",
    "                                maxiter = 1000000, \n",
    "                                disp=0\n",
    "                                )  \n",
    "\n",
    "print(f'The parameter estimate is {estimates[0]:.3f}')"
   ],
   "id": "2d60e9c3ce5f4bc3"
  },
  {
   "cell_type": "markdown",
   "metadata": {},
   "source": [
    "### Inference in Nonlinear Least Squares\n",
    "\n",
    "If we want to do inference we need to compute the variance of $\\widehat{\\theta}_{NL}$, which has the following form: $$\\mathbb{V}(\\widehat{\\theta}_{NL}) = \\frac{1}{T} A_0^{-1} \\Omega_0 A_0^{-1},$$ where $$ \\Omega_0 = \\mathbb{E}\\left(\\varepsilon_t^2 \\frac{\\partial f(x_t,\\theta_0)}{\\partial \\theta} \\frac{\\partial f(x_t,\\theta_0)}{\\partial \\theta} \\right) $$ and\n",
    "$$ A_0 =  \\mathbb{E}\\left( \\frac{\\partial f(x_t,\\theta_0)}{\\partial \\theta} \\frac{\\partial f(x_t,\\theta_0)}{\\partial \\theta} \\right). $$\n",
    "\n",
    "**Notice that we are dividing by $\\frac{1}{T}$. By the CLT, in fact, $A_0^{-1} \\Omega_0 A_0^{-1}$ is the variance of $\\sqrt{T}\\widehat{\\theta}_{NL}$. Because we want the variance of $\\widehat{\\theta}_{NL}$, we need to divide by $T$.** \n",
    "\n",
    "All we need to do is compute a derivative (which can be done manually) and then calculate sample analogues to expectations. These sample analogues are just empirical means. The empirical means will be consistent for the corresponding expectations by the LLN.\n",
    "\n",
    "The derivative is $$ \\frac{\\partial f(x_t,\\theta)}{\\partial \\theta} = x_t \\theta^{x_t -1 }$$\n",
    "\n",
    "Thus, we have:\n",
    "\n",
    "\\begin{equation*}\n",
    "\\widehat{\\Omega}_0 = \\frac{1}{T}\\sum_{t=1}^T \\widehat{\\varepsilon}_t^2 \\frac{\\partial f(x_t,\\widehat{\\theta}_{NL})}{\\partial \\theta} \\frac{\\partial f(x_t,\\widehat{\\theta}_{NL})}{\\partial \\theta}  = \\frac{1}{T}\\sum_{t=1}^T \\widehat{\\varepsilon}_t^2 x^2_t \\widehat{\\theta}_{NL}^{2(x_t -1)},\n",
    "\\end{equation*}\n",
    "and\n",
    "\\begin{equation*}\n",
    "\\widehat{A}_0 = \\frac{1}{T}\\sum_{t=1}^T  \\frac{\\partial f(x_t,\\widehat{\\theta}_{NL})}{\\partial \\theta} \\frac{\\partial f(x_t,\\widehat{\\theta}_{NL})}{\\partial \\theta}  = \\frac{1}{T}\\sum_{t=1}^T  x^2_t \\widehat{\\theta}_{NL}^{2(x_t -1)}.\n",
    "\\end{equation*}\n",
    "\n",
    "### We begin with $\\widehat{A}_0$. "
   ],
   "id": "e65b75d4e94d5597"
  },
  {
   "cell_type": "code",
   "execution_count": 6,
   "metadata": {},
   "outputs": [],
   "source": [
    "# This command creates the derivative (for all times t)\n",
    "deriv =  x*(estimates)**(x-1)        \n",
    "\n",
    "# Now, we average the point-wise product of the derivatives\n",
    "A_hat = np.mean(deriv*deriv)         \n",
    "\n",
    "# Now, we invert A_hat        \n",
    "invA_hat = 1/A_hat"
   ],
   "id": "9205e9416d1485a0"
  },
  {
   "cell_type": "code",
   "execution_count": null,
   "outputs": [],
   "source": [],
   "metadata": {
    "collapsed": false
   },
   "id": "fd4a118a0cd023f"
  },
  {
   "cell_type": "markdown",
   "metadata": {},
   "source": [
    "### We turn to $\\widehat{\\Omega}_0$. "
   ],
   "id": "ee3fa13504981efc"
  },
  {
   "cell_type": "code",
   "execution_count": 7,
   "metadata": {},
   "outputs": [],
   "source": [
    "#We average the product of the derivatives times the squared errors        \n",
    "Omega_hat  = np.mean( ((y - estimates**x)**2)*deriv * deriv )  "
   ],
   "id": "42e40cda45a10836"
  },
  {
   "cell_type": "markdown",
   "metadata": {},
   "source": [
    "### Finally, we compute $\\mathbb{V}(\\widehat{\\theta}_{NL})$"
   ],
   "id": "15ab6b223a25d2bf"
  },
  {
   "cell_type": "code",
   "execution_count": 8,
   "metadata": {
    "tags": []
   },
   "outputs": [
    {
     "name": "stdout",
     "output_type": "stream",
     "text": [
      "The t-statistic of the parameter estimate is 184.594\n"
     ]
    }
   ],
   "source": [
    "#Now, we can compute the variance of the estimate\n",
    "Var = (1/sample_size)*invA_hat * Omega_hat * invA_hat\n",
    "\n",
    "#The standard error of the estimate is the square root of the variance \n",
    "S_error = np.sqrt(Var)\n",
    "\n",
    "#Given the estimate and the standar error, we can compute the t-statistic as the ratio between the two\n",
    "t_stat = estimates/S_error\n",
    "\n",
    "print(f'The t-statistic of the parameter estimate is {t_stat[0]:.3f}')  \n",
    "\n",
    "# Careful: I have to do t_stats[0] to extract a float from the array and pass\n",
    "# the float into the f'string. If I do t_stat I get an array (not a float)\n",
    "# and the f'string would not work."
   ],
   "id": "5fa066f409e46379"
  },
  {
   "cell_type": "code",
   "execution_count": null,
   "metadata": {},
   "outputs": [],
   "source": [],
   "id": "f696b314fe42664f"
  }
 ],
 "metadata": {
  "kernelspec": {
   "display_name": "Python 3",
   "language": "python",
   "name": "python3"
  },
  "language_info": {
   "codemirror_mode": {
    "name": "ipython",
    "version": 3
   },
   "file_extension": ".py",
   "mimetype": "text/x-python",
   "name": "python",
   "nbconvert_exporter": "python",
   "pygments_lexer": "ipython3",
   "version": "3.8.5"
  }
 },
 "nbformat": 4,
 "nbformat_minor": 5
}
