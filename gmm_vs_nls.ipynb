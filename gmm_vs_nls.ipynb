{
 "cells": [
  {
   "cell_type": "markdown",
   "metadata": {},
   "source": [
    "# GMM applied to a nonlinear regression model \n",
    "#### This code estimates the model $$y_t = \\theta_1 x_t^{\\theta_2} + \\varepsilon_t$$ using GMM. We are going to use 3 moments (recall, we could choose any number of moments as long as $N>d=2$), hence GMM is over-identified:\n",
    "\n",
    "\\begin{eqnarray*}\n",
    "\\mathbb{E}[y_t - \\theta_1 x_t^{\\theta_2}] &=& 0, \\\\\n",
    "\\mathbb{E}[(y_t - \\theta_1 x_t^{\\theta_2})x_t] &=& 0, \\\\\n",
    "\\mathbb{E}[(y_t - \\theta_1 x_t^{\\theta_2})x^2_t] &=& 0.\n",
    "\\end{eqnarray*}\n",
    "\n",
    "#### `Note: you have seen the same model estimated by NLS (in the code nls_two_parameters). Comparing the two codes may be instructive about the differences/similarities between the two procedures.` "
   ]
  },
  {
   "cell_type": "code",
   "execution_count": 1,
   "metadata": {},
   "outputs": [
    {
     "name": "stdout",
     "output_type": "stream",
     "text": [
      "3.8.5\n"
     ]
    },
    {
     "data": {
      "text/plain": [
       "'/Users/Fbandi/Dropbox/nonlineareconometrics2024/FEDERICO/Python_codes'"
      ]
     },
     "execution_count": 1,
     "metadata": {},
     "output_type": "execute_result"
    }
   ],
   "source": [
    "import os\n",
    "import pandas as pd\n",
    "import numpy as np\n",
    "import matplotlib.pyplot as plt\n",
    "import scipy.optimize\n",
    "from platform import python_version\n",
    "\n",
    "# The recommended python version is 3.8 or 3.9\n",
    "print(python_version())\n",
    "# Adjust the plot size on your computer\n",
    "plt.rcParams['figure.figsize'] = [7, 7]\n",
    "# Check current directory\n",
    "os.getcwd()"
   ]
  },
  {
   "cell_type": "markdown",
   "metadata": {},
   "source": [
    "### We are simulating the data. We will set the parameter values as being equal to $(2,2)$ and both $x_t$ and $e_t$ as being normal with certain means and variances. Given the parameter values, $x_t$ and $e_t$, the model will yield $y_t.$ Of course, all quantities can be easily modified. "
   ]
  },
  {
   "cell_type": "code",
   "execution_count": 2,
   "metadata": {},
   "outputs": [],
   "source": [
    "# sample size\n",
    "sample_size = 1000      # Choose the number of observations - You can increase this number to see if the LLN would work\n",
    "\n",
    "# population parameters\n",
    "mean_of_x = 20           # mean of the regressor\n",
    "variance_of_x = 4        # variance of the regressor\n",
    "variance_of_e = 1000     # variance of the residual\n",
    "\n",
    "# The parameter values\n",
    "theta = [2,2] \n",
    "\n",
    "# generate x as a sample from the Normal distribution\n",
    "x = np.random.normal(mean_of_x, np.sqrt(variance_of_x), sample_size)\n",
    "\n",
    "# generate the residuals as a sample from the Normal distribution\n",
    "e = np.random.normal(0, np.sqrt(variance_of_e), sample_size)\n",
    "\n",
    "# generate y using the formula\n",
    "y =  theta[0]*(x**theta[1]) + e\n",
    "\n",
    "#The number of moments\n",
    "N = 3\n",
    "\n",
    "#The number of parameters\n",
    "d = 2"
   ]
  },
  {
   "cell_type": "markdown",
   "metadata": {},
   "source": [
    "### Let us look at the data first. We want to make sure that we have generated enough dispersion (through the variance of the residuals) around the curve. In other words, we do not want all of the observations y and x to exactly sit on a curve. We want the model to be realistic."
   ]
  },
  {
   "cell_type": "code",
   "execution_count": 3,
   "metadata": {},
   "outputs": [
    {
     "data": {
      "text/plain": [
       "Text(0.5, 1.0, 'A scatterplot of the data')"
      ]
     },
     "execution_count": 3,
     "metadata": {},
     "output_type": "execute_result"
    },
    {
     "data": {
      "image/png": "[encoded data removed]",
      "text/plain": [
       "<Figure size 504x504 with 1 Axes>"
      ]
     },
     "metadata": {
      "needs_background": "light"
     },
     "output_type": "display_data"
    }
   ],
   "source": [
    "# A scatterplot with matplotlib\n",
    "plt.xlabel('x')\n",
    "plt.ylabel('y')\n",
    "plt.scatter(x, y) \n",
    "plt.scatter(x,theta[0]*(x**theta[1]), color = 'red')\n",
    "plt.title('A scatterplot of the data')"
   ]
  },
  {
   "cell_type": "markdown",
   "metadata": {},
   "source": [
    "## Now that we have the data, we are ready to begin. Let us go step-by-step.\n",
    "\n",
    "## (1) We define the GMM criterion in a `Python function` called `gmm`. \n",
    "\n",
    "The criterion is:\n",
    "\n",
    "\\begin{eqnarray*}\n",
    "Q_T(\\theta) = \\underbrace{g_{T}(\\theta )^{\\top }}_{1\\times 3}\\underbrace{W_{T}}_{3\\times 3}\\underbrace{g_{T}(\\theta )}_{3\\times1},\n",
    "\\end{eqnarray*}\n",
    "\n",
    "where\n",
    "\n",
    "\\begin{eqnarray*}\n",
    "\\underbrace{g_T(\\theta)}_{3\\times1} &=& \\frac{1}{T}\\sum_{t=1}^{T}\\underbrace{g(y_t,x_{t},\\theta)}_{3\\times1} \\\\\n",
    "&=&\\frac{1}{T}\\sum_{t=1}^{T}\\begin{pmatrix} g^{1}(y_t,x_{t},\\theta) \\\\ g^{2}(y_t,x_{t},\\theta) \\\\g^{3}(y_t,x_{t},\\theta)  \\end{pmatrix} \\\\\n",
    "&=& \\frac{1}{T}\\sum_{t=1}^{T}\\begin{pmatrix} y_t - \\theta_1 x_t^{\\theta_2} \\\\ (y_t - \\theta_1 x_t^{\\theta_2})x_t \\\\ (y_t - \\theta_1 x_t^{\\theta_2})x^2_t \\end{pmatrix} \n",
    "\\end{eqnarray*}\n",
    "\n",
    "and $W_T$ is a square symmetric matrix of weights that we choose (see below)."
   ]
  },
  {
   "cell_type": "code",
   "execution_count": 4,
   "metadata": {},
   "outputs": [],
   "source": [
    "def gmm(parameters, y, x, W, flag):\n",
    "    \n",
    "    g = np.zeros([sample_size,N])\n",
    "    g[:,0] = y - parameters[0]*np.power(x,parameters[1])\n",
    "    g[:,1] = (y - parameters[0]*np.power(x,parameters[1]))*x\n",
    "    g[:,2] = (y - parameters[0]*np.power(x,parameters[1]))*x**2\n",
    "    \n",
    "    mean_g = np.mean(g,axis=0)\n",
    "    \n",
    "    if flag == 1:\n",
    "        f = mean_g @ W @ mean_g.T\n",
    "    else:\n",
    "        f = g\n",
    "        \n",
    "    return f"
   ]
  },
  {
   "cell_type": "markdown",
   "metadata": {},
   "source": [
    "## (2) We find the parameters by `minimizing the GMM criterion`:\n",
    "\n",
    "\\begin{eqnarray*}\n",
    "\\widehat{\\theta }_{GMM} &=&\\underset{\\theta }{\\text{ }\\arg \\min }\\left[\\underbrace{g_{T}(\\theta )^{\\top }}_{1\\times 3}\\underbrace{W_{T}}_{3\\times 3}\\underbrace{g_{T}(\\theta )}_{3\\times1}\\right] \\\\\n",
    "&=&\\text{ }\\underset{\\theta }{\\arg \\min }\\left[\\underbrace{Q_{T}(\\theta )}_{1\\times 1}\\right],\n",
    "\\end{eqnarray*}\n",
    "\n",
    "where $\\widehat{\\theta}_{GMM} = (\\widehat{\\theta}_1, \\widehat{\\theta}_2)$ in our bivariate case. \n",
    "\n",
    "### In order to do the minimization we now have to feed the criterion (in the function `gmm` above) into a minimizer (another function which will compute the minimum of the criterion). A possible function is `scipy.optimize.fmin`. \n",
    "\n",
    "The inputs of the `scipy.optimize.fmin` function are:\n",
    "\n",
    "1. `func`. The function to minimize - in our case `gmm` - as defined in the previous snippet.\n",
    "2. `x0`. The initial guess of the parameters $\\theta_1$ and $\\theta_2$: `initial_guess`. This is just our initial guess of the parameters for evaluating the function `gmm` at the beginning of the minimization.\n",
    "3. `args`. The arguments of the `gmm` function that are not paramaters. For our problem, these are the data `cons` and `ret`, respectively.\n",
    "\n",
    "Additional inputs that are optional:\n",
    "\n",
    "4. `xtol` and `ftol`. This is the tolerance for the minimizer and the function evaluation, respectively. The algorithm will stop automatically when it cannot find another minimizer that is smaller by at least `xtol` than the current one. Same as for the function evaluation. \n",
    "5. `maxiter`. The maximum number of iterations to try. The algorithm stops if it reaches `maxiter` attempts, even if it did not find a minimum.\n",
    "6. `disp`. A variable indicating whether we want to see some results or not. `disp=0` will not show results, `disp=1` will provide additional information."
   ]
  },
  {
   "cell_type": "markdown",
   "metadata": {},
   "source": [
    "# First-stage estimation  \n",
    "\n",
    "We are going to use the identity matrix as the initial weight matrix: \n",
    "\n",
    "\\begin{equation*}\n",
    "\\underbrace{W_T}_{3 \\times 3} = \\begin{pmatrix} 1 & 0 & 0 \\\\ 0 & 1 & 0 \\\\ 0 & 0 & 1 \\end{pmatrix}.\n",
    "\\end{equation*}\n",
    "\n",
    "\n",
    "After obtaining the first-stage GMM estimates, we will calculate the `optimal` weight matrix (using the first-stage estimates) and obtain our `final` second-stage estimates."
   ]
  },
  {
   "cell_type": "code",
   "execution_count": 5,
   "metadata": {},
   "outputs": [
    {
     "name": "stdout",
     "output_type": "stream",
     "text": [
      "The first-stage estimate of the first parameter is 2.0491\n",
      "The first-stage estimate of the second parameter is 1.9928\n"
     ]
    }
   ],
   "source": [
    "# First-stage weigth matrix (the identity matrix)\n",
    "W = np.eye(N)\n",
    "                         \n",
    "# parameters used to initialize the optimization\n",
    "initial_guess = [4, 5]\n",
    "\n",
    "# minimize the gmm criterion to find the parameters estimates\n",
    "estimates = scipy.optimize.fmin(func=gmm, \n",
    "                                  x0=initial_guess, \n",
    "                                  args=(y, x, W, 1), \n",
    "                                  xtol=1e-5, \n",
    "                                  ftol=1e-5,\n",
    "                                  maxiter = 100000,\n",
    "                                  disp=0)\n",
    "\n",
    "# The first-stage parameter estimates\n",
    "print(f'The first-stage estimate of the first parameter is {estimates[0]:.4f}')\n",
    "print(f'The first-stage estimate of the second parameter is {estimates[1]:.4f}')"
   ]
  },
  {
   "cell_type": "markdown",
   "metadata": {},
   "source": [
    "# Second-stage estimation\n",
    "\n",
    "Now that we have the first-stage estimates ($\\widehat{\\theta}^1_{GMM}$), we will be able to compute the `optimal second-stage estimates` ($\\widehat{\\theta}^2_{GMM}$) using the `optimal weight matrix` $W_{T}=\\widehat{\\Phi }_{0}^{-1}$ with\n",
    "\n",
    "\\begin{equation*}\n",
    "W_{T}=\\left( \\frac{1}{T}\\sum \\limits_{t=1}^{T}\\left( g(y_t,x_t,\\widehat{%\n",
    "\\theta }_{GMM}^{1})g(y_t,x_t,\\widehat{\\theta }_{GMM}^{1})^{^{\\top }}\\right)\n",
    "\\right) ^{-1}.\n",
    "\\end{equation*}"
   ]
  },
  {
   "cell_type": "code",
   "execution_count": 6,
   "metadata": {},
   "outputs": [],
   "source": [
    "###################################################################\n",
    "# We compute the optimal weight matrix using first-stage estimates\n",
    "####################################################################\n",
    "\n",
    "# The pricing errors evaluated at the first-stage estimates\n",
    "g_opt = gmm(estimates, y, x, W, 2);     \n",
    "\n",
    "# Phi_hat0 is an average of outer products of pricing errors. We do a loop to compute this average.\n",
    "Phi_hat0 = np.zeros([N, N])\n",
    "for j in range(sample_size):\n",
    "    Phi_hat0 = Phi_hat0 + np.outer(g_opt[j,:], g_opt[j,:]) / sample_size\n",
    "\n",
    "# The optimal weight matrix is just the inverse of Phi_hat0    \n",
    "W_opt = np.linalg.inv(Phi_hat0)"
   ]
  },
  {
   "cell_type": "code",
   "execution_count": 7,
   "metadata": {},
   "outputs": [
    {
     "name": "stdout",
     "output_type": "stream",
     "text": [
      "The second-stage estimate of the first parameter is 2.0419\n",
      "The second-stage estimate of the second parameter is 1.9940\n"
     ]
    }
   ],
   "source": [
    "#############################\n",
    "# Second-stage estimation \n",
    "#############################\n",
    "\n",
    "estimates_opt = scipy.optimize.fmin(func=gmm, \n",
    "                                    x0=initial_guess, \n",
    "                                    args=(y, x, W_opt, 1), \n",
    "                                    xtol=1e-5, \n",
    "                                    ftol=1e-5, \n",
    "                                    disp=0)\n",
    "\n",
    "# The second-stage parameter estimates\n",
    "print(f'The second-stage estimate of the first parameter is {estimates_opt[0]:.4f}')\n",
    "print(f'The second-stage estimate of the second parameter is {estimates_opt[1]:.4f}')"
   ]
  },
  {
   "cell_type": "markdown",
   "metadata": {},
   "source": [
    "## (3) Finally, we do statistical inference.\n",
    "\n",
    "When using the `optimal weight matrix,` we know that the GMM estimator is asymptotically normal with a very specific asymptotic variance (the smallest possible):\n",
    "\n",
    "\\begin{equation}\n",
    "\\sqrt{T}(\\widehat{\\theta}_{GMM} - \\theta_0) \\overset{d}{\\rightarrow}N(0,\\mathbb{V})\n",
    "\\end{equation}\n",
    "\n",
    "with $\\mathbb{V} = \\left( \\Gamma _{0}^{^{\\top }}\\Phi_{0}^{-1}\\Gamma _{0}\\right)^{-1}.$ Thus,\n",
    "\n",
    "\\begin{equation*}\n",
    "\\boxed{\\mathbb{V}(\\widehat{\\theta}_{GMM}) = \\frac{1}{T}\\left( \\Gamma _{0}^{^{\\top }}\\Phi\n",
    "_{0}^{-1}\\Gamma _{0}\\right) ^{-1}.}\n",
    "\\end{equation*}\n",
    "\n",
    "The relevant quantities are $\\Phi_0$ and $\\Gamma_0$. We begin with $\\Phi_0.$ \n",
    "\n",
    "\\begin{equation*}\n",
    "\\underbrace{\\Phi_0}_{3 \\times 3}=\\mathbb{E}\\left(g(y_t,x_{t},\\theta _{0})g(y_t,x_{t},\\theta _{0})^{\\top}\\right).\n",
    "\\end{equation*}\n",
    "\n",
    "This is the expected value of the outer product of the pricing errors: \n",
    "\n",
    "\\begin{equation*}\n",
    "\\underbrace{\\Phi_0}_{3 \\times 3} = \\mathbb{E}\\left( \\begin{bmatrix}y_t - \\theta_1 x_t^{\\theta_2} \\\\ (y_t - \\theta_1 x_t^{\\theta_2})x_t \\\\ (y_t - \\theta_1 x_t^{\\theta_2})x^2_t \\end{bmatrix} \\begin{bmatrix} y_t - \\theta_1 x_t^{\\theta_2} & (y_t - \\theta_1 x_t^{\\theta_2})x_t & (y_t - \\theta_1 x_t^{\\theta_2})x^2_t  \\end{bmatrix} \\right).\n",
    "\\end{equation*}\n",
    "\n",
    "`Notice that we have already computed this quantity when calculating the optimal weight matrix. We simply have to recompute it using the second-stage (optimal) GMM estimates.` \n",
    "\n",
    "As for $\\Gamma_0$:\n",
    "\n",
    "\\begin{equation*}\n",
    "\\underbrace{\\Gamma_0}_{3 \\times 2} = \\mathbb{E}\\left( \\frac{\\partial g(y_t, x_{t},\\theta _{0})}{\\partial \\theta ^{\\top }}\\right).\n",
    "\\end{equation*}\n",
    "\n",
    "This is a matrix in which every row is a moment and every column is the derivative of the moment with respect to the correspoding parameter. For our problem, we have $N=3$ moments and $d=2$ parameters, thus\n",
    "\n",
    "\n",
    "\\begin{eqnarray*}\n",
    "\\underbrace{\\Gamma_{0}}_{3 \\times 2} \n",
    "  =  \\mathbb{E}\\left[\\begin{array}{cc} -x_t^{\\theta_2}& -\\theta_1x_t^{\\theta_2}\\log(x_t)\\\\\n",
    "-x_t^{\\theta_2+1} & -\\theta_1x_t^{\\theta_2+1}\\log(x_t) \\\\\n",
    "-x_t^{\\theta_2+2} & -\\theta_1x_t^{\\theta_2+2}\\log(x_t) \\\\\n",
    "\\end{array}\\right].\n",
    "\\end{eqnarray*}\n",
    "\n",
    "### Estimation of $\\widehat{\\mathbb{V}}(\\widehat{\\theta}_{GMM}).$ \n",
    "\n",
    "We have:\n",
    "\n",
    "\\begin{equation*}\n",
    "\\boxed{\\widehat{\\mathbb{V}}(\\widehat{\\theta}_{GMM}) = \\frac{1}{T}\\left( \\widehat{\\Gamma} _{0}^{^{\\top }}\\widehat{\\Phi}\n",
    "_{0}^{-1}\\widehat{\\Gamma} _{0}\\right) ^{-1}.}\n",
    "\\end{equation*}\n",
    "\n",
    "The estimates of $\\Phi_0$ and $\\Gamma_0$ are, respectively:\n",
    "\n",
    "\\begin{equation*}\n",
    "\\widehat{\\Phi}_0 = \\frac{1}{T}\\sum_{t=1}^{T}\\left( \\begin{bmatrix}y_t - \\widehat{\\theta}_1 x_t^{\\widehat{\\theta}_2} \\\\ (y_t - \\widehat{\\theta}_1 x_t^{\\widehat{\\theta}_2})x_t \\\\ (y_t - \\widehat{\\theta}_1 x_t^{\\widehat{\\theta}_2})x^2_t \\end{bmatrix} \\begin{bmatrix} y_t - \\widehat{\\theta}_1 x_t^{\\widehat{\\theta}_2} & (y_t - \\widehat{\\theta}_1 x_t^{\\widehat{\\theta}_2})x_t & (y_t - \\widehat{\\theta}_1 x_t^{\\widehat{\\theta}_2})x^2_t  \\end{bmatrix} \\right)\n",
    "\\end{equation*}\n",
    "\n",
    "and\n",
    "\n",
    "\\begin{eqnarray*}\n",
    "\\widehat{\\Gamma}_0\n",
    "  =  \\frac{1}{T}\\sum_{t=1}^{T}\\left[\\begin{array}{cc} -x_t^{\\widehat{\\theta}_2}& -\\widehat{\\theta}_1x_t^{\\widehat{\\theta}_2}\\log(x_t)\\\\\n",
    "-x_t^{\\widehat{\\theta}_2+1} & -\\widehat{\\theta}_1x_t^{\\widehat{\\theta}_2+1}\\log(x_t) \\\\\n",
    "-x_t^{\\widehat{\\theta}_2+2} & -\\widehat{\\theta}_1x_t^{\\widehat{\\theta}_2+2}\\log(x_t) \\\\\n",
    "\\end{array}\\right]\n",
    "\\end{eqnarray*}\n",
    "Notice that, as always, the expectation was replaced by an arithmetic average over the data and the true parameter value $\\theta_0$ was replaced by the second-stage optimal GMM estimates.\n"
   ]
  },
  {
   "cell_type": "code",
   "execution_count": 8,
   "metadata": {},
   "outputs": [
    {
     "data": {
      "text/html": [
       "<div>\n",
       "<style scoped>\n",
       "    .dataframe tbody tr th:only-of-type {\n",
       "        vertical-align: middle;\n",
       "    }\n",
       "\n",
       "    .dataframe tbody tr th {\n",
       "        vertical-align: top;\n",
       "    }\n",
       "\n",
       "    .dataframe thead th {\n",
       "        text-align: right;\n",
       "    }\n",
       "</style>\n",
       "<table border=\"1\" class=\"dataframe\">\n",
       "  <thead>\n",
       "    <tr style=\"text-align: right;\">\n",
       "      <th></th>\n",
       "      <th>Stage 1</th>\n",
       "      <th>Stage 2</th>\n",
       "      <th>Std Errors</th>\n",
       "      <th>t stats</th>\n",
       "    </tr>\n",
       "  </thead>\n",
       "  <tbody>\n",
       "    <tr>\n",
       "      <th>theta1</th>\n",
       "      <td>2.049079</td>\n",
       "      <td>2.041850</td>\n",
       "      <td>0.076045</td>\n",
       "      <td>26.850522</td>\n",
       "    </tr>\n",
       "    <tr>\n",
       "      <th>theta2</th>\n",
       "      <td>1.992846</td>\n",
       "      <td>1.994014</td>\n",
       "      <td>0.012269</td>\n",
       "      <td>162.525893</td>\n",
       "    </tr>\n",
       "  </tbody>\n",
       "</table>\n",
       "</div>"
      ],
      "text/plain": [
       "         Stage 1   Stage 2  Std Errors     t stats\n",
       "theta1  2.049079  2.041850    0.076045   26.850522\n",
       "theta2  1.992846  1.994014    0.012269  162.525893"
      ]
     },
     "execution_count": 8,
     "metadata": {},
     "output_type": "execute_result"
    }
   ],
   "source": [
    "#############################\n",
    "# We begin with Phi_hat0\n",
    "##############################\n",
    "\n",
    "# The pricing errors evaluated at the optimal SECOND-STAGE estimates\n",
    "g_opt = gmm(estimates_opt, y, x, W_opt, 2)\n",
    "\n",
    "# Phi_hat0 is an average of outer products of pricing errors. We do a loop to compute this average.\n",
    "Phi_hat0 = np.zeros([N, N])\n",
    "for j in range(sample_size):\n",
    "    Phi_hat0 = Phi_hat0 + np.outer(g_opt[j, :], g_opt[j, :]) / sample_size\n",
    "\n",
    "invPhi_hat0 = np.linalg.inv(Phi_hat0)  # This is the inverse of Phi_hat\n",
    "\n",
    "#############################\n",
    "# We now turn to Lambda_hat0\n",
    "##############################\n",
    "\n",
    "Lambda_hat0 = np.zeros([N, d])\n",
    "\n",
    "Lambda_hat0[0, 0] = - np.mean(np.power(x, estimates_opt[1]))\n",
    "Lambda_hat0[1, 0] = - np.mean(np.power(x, estimates_opt[1]+1))\n",
    "Lambda_hat0[2, 0] = - np.mean(np.power(x, estimates_opt[1]+2))\n",
    "\n",
    "Lambda_hat0[0, 1] = - np.mean(estimates_opt[0]*np.power(x, estimates_opt[1])*np.log(x))\n",
    "Lambda_hat0[1, 1] = - np.mean(estimates_opt[0]*np.power(x, estimates_opt[1]+1)*np.log(x))\n",
    "Lambda_hat0[2, 1] = - np.mean(estimates_opt[0]*np.power(x, estimates_opt[1]+2)*np.log(x))\n",
    "\n",
    "################################\n",
    "# Putting everything together: The estimated variance\n",
    "################################\n",
    "                               \n",
    "# compute the variance-covariance matrix of the parameter estimates\n",
    "VarCov = (1 / sample_size) * np.linalg.inv(Lambda_hat0.T @ invPhi_hat0 @ Lambda_hat0)\n",
    "\n",
    "\n",
    "##################################\n",
    "# Standard errors and t-statistics\n",
    "###################################\n",
    "\n",
    "# the variances are on the diagonal\n",
    "var_diag = np.diag(VarCov)\n",
    "\n",
    "# Standard errors\n",
    "std_error = np.sqrt(var_diag)\n",
    "\n",
    "# t-statistics\n",
    "t_stats = estimates_opt/std_error     \n",
    "\n",
    "# table of parameters, standard errors and t statistics\n",
    "table_estimates = pd.DataFrame({'Stage 1': estimates, 'Stage 2': estimates_opt, 'Std Errors': std_error,\n",
    "                                't stats': t_stats }, index = ['theta1', 'theta2'])\n",
    "table_estimates\n"
   ]
  },
  {
   "cell_type": "code",
   "execution_count": null,
   "metadata": {},
   "outputs": [],
   "source": []
  }
 ],
 "metadata": {
  "kernelspec": {
   "display_name": "Python 3",
   "language": "python",
   "name": "python3"
  },
  "language_info": {
   "codemirror_mode": {
    "name": "ipython",
    "version": 3
   },
   "file_extension": ".py",
   "mimetype": "text/x-python",
   "name": "python",
   "nbconvert_exporter": "python",
   "pygments_lexer": "ipython3",
   "version": "3.8.5"
  }
 },
 "nbformat": 4,
 "nbformat_minor": 5
}
