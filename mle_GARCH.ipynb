{
 "cells": [
  {
   "cell_type": "markdown",
   "id": "2cb564ca",
   "metadata": {},
   "source": [
    "# Maximum Likelihood Estimation of a GARCH model \n",
    "\n",
    "### This code estimates the parameters ($\\mu^{\\ast}$, $\\delta^{\\ast}$ and $\\phi^{\\ast}$) of a GARCH(1,1) model by maximizing the standardized (by $T$) log likelihood:\n",
    "\n",
    "\\begin{equation*}\n",
    "Q_T(\\theta) = \\frac{1}{T}\\log(L(\\{x\\},\\mu^{\\ast}, \\delta^{\\ast}, \\phi^{\\ast}))= - \\frac{1}{2}\\log (2\\pi)-\\frac{\\sum _{t=1}^{T}}{2T}\\log \n",
    "h_{t}-\\frac{\\sum _{t=1}^{T}}{2T}\\left( \\frac{\\varepsilon _{t}^{2}}{h_{t}}\\right),\n",
    "\\end{equation*}\n",
    "with\n",
    "$$h_t = \\mu ^{\\ast }+\\delta ^{\\ast }h_{t-1}+\\phi^{\\ast }\\varepsilon_{t-1}^{2}.$$"
   ]
  },
  {
   "cell_type": "code",
   "execution_count": 1,
   "id": "594d8d02",
   "metadata": {},
   "outputs": [],
   "source": [
    "import os\n",
    "import pandas as pd\n",
    "import numpy as np\n",
    "import matplotlib.pyplot as plt\n",
    "import scipy.optimize\n",
    "from platform import python_version"
   ]
  },
  {
   "cell_type": "code",
   "execution_count": 2,
   "id": "93c0a561",
   "metadata": {},
   "outputs": [
    {
     "name": "stdout",
     "output_type": "stream",
     "text": [
      "3.9.13\n"
     ]
    },
    {
     "data": {
      "text/plain": [
       "'/Users/federico/Dropbox/nonlineareconometrics2024/FEDERICO/Python_codes'"
      ]
     },
     "execution_count": 2,
     "metadata": {},
     "output_type": "execute_result"
    }
   ],
   "source": [
    "# The recommended python version is 3.8 or 3.9\n",
    "print(python_version())\n",
    "# Adjust the plot size on your computer\n",
    "plt.rcParams['figure.figsize'] = [7, 7]\n",
    "# Check current directory\n",
    "os.getcwd()"
   ]
  },
  {
   "cell_type": "markdown",
   "id": "e3bb214d",
   "metadata": {},
   "source": [
    "## Let us begin by uploading the data"
   ]
  },
  {
   "cell_type": "code",
   "execution_count": 3,
   "id": "4c327e6c",
   "metadata": {},
   "outputs": [
    {
     "data": {
      "text/html": [
       "<div>\n",
       "<style scoped>\n",
       "    .dataframe tbody tr th:only-of-type {\n",
       "        vertical-align: middle;\n",
       "    }\n",
       "\n",
       "    .dataframe tbody tr th {\n",
       "        vertical-align: top;\n",
       "    }\n",
       "\n",
       "    .dataframe thead th {\n",
       "        text-align: right;\n",
       "    }\n",
       "</style>\n",
       "<table border=\"1\" class=\"dataframe\">\n",
       "  <thead>\n",
       "    <tr style=\"text-align: right;\">\n",
       "      <th></th>\n",
       "      <th>date</th>\n",
       "      <th>sp500level</th>\n",
       "    </tr>\n",
       "  </thead>\n",
       "  <tbody>\n",
       "    <tr>\n",
       "      <th>0</th>\n",
       "      <td>19800102</td>\n",
       "      <td>105.76</td>\n",
       "    </tr>\n",
       "    <tr>\n",
       "      <th>1</th>\n",
       "      <td>19800103</td>\n",
       "      <td>105.22</td>\n",
       "    </tr>\n",
       "    <tr>\n",
       "      <th>2</th>\n",
       "      <td>19800104</td>\n",
       "      <td>106.52</td>\n",
       "    </tr>\n",
       "    <tr>\n",
       "      <th>3</th>\n",
       "      <td>19800107</td>\n",
       "      <td>106.81</td>\n",
       "    </tr>\n",
       "    <tr>\n",
       "      <th>4</th>\n",
       "      <td>19800108</td>\n",
       "      <td>108.95</td>\n",
       "    </tr>\n",
       "    <tr>\n",
       "      <th>...</th>\n",
       "      <td>...</td>\n",
       "      <td>...</td>\n",
       "    </tr>\n",
       "    <tr>\n",
       "      <th>6810</th>\n",
       "      <td>20061222</td>\n",
       "      <td>1410.76</td>\n",
       "    </tr>\n",
       "    <tr>\n",
       "      <th>6811</th>\n",
       "      <td>20061226</td>\n",
       "      <td>1416.90</td>\n",
       "    </tr>\n",
       "    <tr>\n",
       "      <th>6812</th>\n",
       "      <td>20061227</td>\n",
       "      <td>1426.84</td>\n",
       "    </tr>\n",
       "    <tr>\n",
       "      <th>6813</th>\n",
       "      <td>20061228</td>\n",
       "      <td>1424.73</td>\n",
       "    </tr>\n",
       "    <tr>\n",
       "      <th>6814</th>\n",
       "      <td>20061229</td>\n",
       "      <td>1418.30</td>\n",
       "    </tr>\n",
       "  </tbody>\n",
       "</table>\n",
       "<p>6815 rows × 2 columns</p>\n",
       "</div>"
      ],
      "text/plain": [
       "          date  sp500level\n",
       "0     19800102      105.76\n",
       "1     19800103      105.22\n",
       "2     19800104      106.52\n",
       "3     19800107      106.81\n",
       "4     19800108      108.95\n",
       "...        ...         ...\n",
       "6810  20061222     1410.76\n",
       "6811  20061226     1416.90\n",
       "6812  20061227     1426.84\n",
       "6813  20061228     1424.73\n",
       "6814  20061229     1418.30\n",
       "\n",
       "[6815 rows x 2 columns]"
      ]
     },
     "execution_count": 3,
     "metadata": {},
     "output_type": "execute_result"
    }
   ],
   "source": [
    "data = pd.read_excel('SP500daily_level.xlsx')\n",
    "data "
   ]
  },
  {
   "cell_type": "markdown",
   "id": "21e1e495",
   "metadata": {},
   "source": [
    "## Let us now extract prices and compute continuously-compounded returns"
   ]
  },
  {
   "cell_type": "code",
   "execution_count": 4,
   "id": "f9308141",
   "metadata": {},
   "outputs": [],
   "source": [
    "# We go from prices to log (or continuously-compounded) returns\n",
    "prices = np.array(data.iloc[:, 1])\n",
    "ret = np.log(prices[1:] / prices[:-1])\n",
    "T = len(ret)"
   ]
  },
  {
   "cell_type": "markdown",
   "id": "40664696",
   "metadata": {},
   "source": [
    "## Always plot the data (if you can): why do we need a GARCH model? Let's see ..."
   ]
  },
  {
   "cell_type": "code",
   "execution_count": 5,
   "id": "a4edbe88",
   "metadata": {},
   "outputs": [
    {
     "data": {
      "text/plain": [
       "Text(0.5, 0, 'time')"
      ]
     },
     "execution_count": 5,
     "metadata": {},
     "output_type": "execute_result"
    },
    {
     "data": {
      "image/png": "[encoded data removed]",
      "text/plain": [
       "<Figure size 700x700 with 1 Axes>"
      ]
     },
     "metadata": {},
     "output_type": "display_data"
    }
   ],
   "source": [
    "plt.plot(ret)\n",
    "plt.title('SP 500 continuously-compounded returns', color = 'red')\n",
    "plt.ylabel('returns', color = 'red')\n",
    "plt.xlabel('time', color = 'red')"
   ]
  },
  {
   "cell_type": "markdown",
   "id": "75610cf8",
   "metadata": {
    "tags": []
   },
   "source": [
    "## (1) We define the standardized log-likelihood function"
   ]
  },
  {
   "cell_type": "code",
   "execution_count": 6,
   "id": "9395fad9",
   "metadata": {},
   "outputs": [],
   "source": [
    "def garchloglik(theta,ret):\n",
    "    \n",
    "    [mu, delta, phi] = theta\n",
    "    \n",
    "    h1 = np.var(ret, ddof=1)          # Recall h needs to be initiated (we loop over h)\n",
    "                                      # Initial value of h: we use the unconditional empirical variance from the data\n",
    "\n",
    "    h    =   h1\n",
    "    sum1 = - 1 / 2 * np.log(h1) /T\n",
    "    sum2 = - ret[0]**2 / (2 * h1 * T)\n",
    "\n",
    "    for t in range(1, T): \n",
    "        h = mu + delta * h + phi * ret[t-1]**2\n",
    "        sum1 = sum1 - 1 / 2 * np.log(h)/T\n",
    "        sum2 = sum2 - ret[t]**2 / (2 * h * T)\n",
    "\n",
    "    # Note 1: I am excluding the first term in the log likelihood since it does not affect the maximum\n",
    "    # Note 2: Below I will change the sign of the likelihood. We are maximizing, not minimizing.\n",
    "    \n",
    "    y = - (sum1 + sum2)\n",
    "    return y"
   ]
  },
  {
   "cell_type": "markdown",
   "id": "ae5dabdd",
   "metadata": {},
   "source": [
    "## (2) Estimation\n",
    "\n",
    "The ML estimates are:\n",
    "\n",
    "\\begin{eqnarray*}\n",
    "\\widehat{\\theta }_{MLE}&=&\\underset{\\theta}{\\arg \\max }\\left[Q_{T}(\\theta )\\right] \\\\\n",
    "&=& \\underset{\\theta = (\\mu^{\\ast}, \\delta^{\\ast}, \\phi^{\\ast})}{\\arg \\max }{\\frac{1}{T}\\log(L(\\{x\\},\\mu^{\\ast}, \\delta^{\\ast}, \\phi^{\\ast}))}\\\\\n",
    "&=&\\underset{\\theta = (\\mu^{\\ast}, \\delta^{\\ast}, \\phi^{\\ast}) }{\\arg \\max }\\left(\\frac{1}{2}\\log (2\\pi)-\\frac{\\sum _{t=1}^{T}}{2T}\\log \n",
    "h_{t}-\\frac{\\sum _{t=1}^{T}}{2T}\\left( \\frac{\\varepsilon _{t}^{2}}{h_{t}}\\right)\\right)\n",
    "\\end{eqnarray*}"
   ]
  },
  {
   "cell_type": "code",
   "execution_count": 7,
   "id": "b55c07ed",
   "metadata": {},
   "outputs": [
    {
     "name": "stderr",
     "output_type": "stream",
     "text": [
      "/var/folders/xf/zsdpj0kj2g9c1ybcmmdbvd8m0000gn/T/ipykernel_14477/1190580667.py:14: RuntimeWarning: invalid value encountered in log\n",
      "  sum1 = sum1 - 1 / 2 * np.log(h)/T\n"
     ]
    },
    {
     "data": {
      "text/html": [
       "<div>\n",
       "<style scoped>\n",
       "    .dataframe tbody tr th:only-of-type {\n",
       "        vertical-align: middle;\n",
       "    }\n",
       "\n",
       "    .dataframe tbody tr th {\n",
       "        vertical-align: top;\n",
       "    }\n",
       "\n",
       "    .dataframe thead th {\n",
       "        text-align: right;\n",
       "    }\n",
       "</style>\n",
       "<table border=\"1\" class=\"dataframe\">\n",
       "  <thead>\n",
       "    <tr style=\"text-align: right;\">\n",
       "      <th></th>\n",
       "      <th>Estimates</th>\n",
       "    </tr>\n",
       "  </thead>\n",
       "  <tbody>\n",
       "    <tr>\n",
       "      <th>mu</th>\n",
       "      <td>0.000001</td>\n",
       "    </tr>\n",
       "    <tr>\n",
       "      <th>delta</th>\n",
       "      <td>0.923810</td>\n",
       "    </tr>\n",
       "    <tr>\n",
       "      <th>phi</th>\n",
       "      <td>0.068592</td>\n",
       "    </tr>\n",
       "  </tbody>\n",
       "</table>\n",
       "</div>"
      ],
      "text/plain": [
       "       Estimates\n",
       "mu      0.000001\n",
       "delta   0.923810\n",
       "phi     0.068592"
      ]
     },
     "execution_count": 7,
     "metadata": {},
     "output_type": "execute_result"
    }
   ],
   "source": [
    "theta_guess = [0.2, 0.5, 0.5]  \n",
    "\n",
    "estimates = scipy.optimize.fmin(func=garchloglik, \n",
    "                                x0=theta_guess, \n",
    "                                args=(ret,), \n",
    "                                xtol=1e-10, \n",
    "                                ftol=1e-10, \n",
    "                                disp=0)  \n",
    "\n",
    "table = pd.DataFrame({'Estimates':estimates}, index = ['mu', 'delta','phi'])\n",
    "table"
   ]
  },
  {
   "cell_type": "markdown",
   "id": "c9d83bce",
   "metadata": {},
   "source": [
    "## (3) Asymptotic Inference\n",
    "\n",
    "We know that the ML estimator is asymptotically normal:\n",
    "\\begin{equation*}\n",
    "\\sqrt{T}\\left( \\widehat{\\theta }_{MLE} -\\theta _{0}\\right) \\overset{d}{\\rightarrow} N(0,\\Omega_{0}^{-1})\n",
    "\\end{equation*}\n",
    "with $$\\Omega_0 = \\mathbb{E}\\left( \\frac{\\partial \\log p(r_{t}|r_{t-1},...,\\theta _{0})}{%\n",
    "\\partial \\theta }\\frac{\\partial \\log p(r_{t}|r_{t-1},...,\\theta _{0})}{%\n",
    "\\partial \\theta ^{^{\\top }}}\\right).$$\n",
    "\n",
    "Thus,\n",
    "\n",
    "\\begin{equation*}\n",
    "\\widehat{\\mathbb{V}}(\\widehat{\\theta}_{MLE})= \\frac{1}{T}(\\widehat{\\Omega}_0)^{-1} = \\frac{1}{T}\\left(\\frac{1}{T}\\sum_{t=1}^{T}\\frac{\\partial \\log p(r_{t}|r_{t-1},...,\\widehat{\\theta} _{MLE})}{%\n",
    "\\partial \\theta }\\frac{\\partial \\log p(r_{t}|r_{t-1},...,\\widehat{\\theta} _{MLE})}{%\n",
    "\\partial \\theta ^{^{\\top }}}\\right)^{-1}.\n",
    "\\end{equation*}\n",
    "\n",
    "But, in this model,\n",
    "\\begin{equation*}\n",
    "\\frac{\\partial \\log p(r_{t}|r_{t-1},...,\\widehat{\\theta} _{MLE})}{\\partial \\theta }=\\begin{pmatrix}\\frac{\\partial \\log p(r_{t}|r_{t-1},...,\\widehat{\\theta} _{MLE})}{\\partial \\mu^{\\ast} } \\\\\\frac{\\partial \\log p(r_{t}|r_{t-1},...,\\widehat{\\theta} _{MLE})}{\\partial \\delta^{\\ast} } \\\\ \\frac{\\partial \\log p(r_{t}|r_{t-1},...,\\widehat{\\theta} _{MLE})}{\\partial \\phi^{\\ast} } \\end{pmatrix}=\\underbrace{\\left(-\\frac{1}{2}\\frac{1}{\\widehat{h}_t}+\\frac{1}{2}\\frac{\\varepsilon^2_t}{\\widehat{h}_t^2} \\right)}_{\\frac{\\partial \\log p(r_{t}|r_{t-1},...,\\widehat{\\theta} _{MLE})}{\\partial \\widehat{h}_t}} \\begin{pmatrix} \\frac{\\partial \\widehat{h}_t}{\\partial \\mu^{\\ast}} \\\\ \\frac{\\partial \\widehat{h}_t}{\\partial \\delta^{\\ast}}  \\\\ \\frac{\\partial \\widehat{h}_t}{\\partial \\phi^{\\ast}} \\end{pmatrix},\n",
    "\\end{equation*}\n",
    "where\n",
    "\\begin{equation*}\n",
    "\\begin{pmatrix} \\frac{\\partial \\widehat{h}_t}{\\partial \\mu^{\\ast}} \\\\ \\frac{\\partial \\widehat{h}_t}{\\partial \\delta^{\\ast}}  \\\\ \\frac{\\partial \\widehat{h}_t}{\\partial \\phi^{\\ast}} \\end{pmatrix}=\\begin{pmatrix} 1+ \\widehat{\\delta}^{\\ast}\\frac{\\partial \\widehat{h}_{t-1}}{\\partial \\mu^{\\ast}} \\\\ \\widehat{h}_{t-1}+\\widehat{\\delta}^{\\ast}\\frac{\\partial \\widehat{h}_{t-1}}{\\partial \\delta^{\\ast}}  \\\\ \\varepsilon^2_{t-1}+\\widehat{\\delta}^{\\ast}\\frac{\\partial \\widehat{h}_{t-1}}{\\partial \\phi^{\\ast}} \\end{pmatrix},\n",
    "\\end{equation*}\n",
    "since $h_t=\\mu ^{\\ast }+\\delta ^{\\ast }h_{t-1}+\\phi^{\\ast }\\varepsilon_{t-1}^{2}.$\n"
   ]
  },
  {
   "cell_type": "code",
   "execution_count": 8,
   "id": "816f53de",
   "metadata": {},
   "outputs": [
    {
     "data": {
      "text/html": [
       "<div>\n",
       "<style scoped>\n",
       "    .dataframe tbody tr th:only-of-type {\n",
       "        vertical-align: middle;\n",
       "    }\n",
       "\n",
       "    .dataframe tbody tr th {\n",
       "        vertical-align: top;\n",
       "    }\n",
       "\n",
       "    .dataframe thead th {\n",
       "        text-align: right;\n",
       "    }\n",
       "</style>\n",
       "<table border=\"1\" class=\"dataframe\">\n",
       "  <thead>\n",
       "    <tr style=\"text-align: right;\">\n",
       "      <th></th>\n",
       "      <th>Estimates</th>\n",
       "      <th>t statistics</th>\n",
       "    </tr>\n",
       "  </thead>\n",
       "  <tbody>\n",
       "    <tr>\n",
       "      <th>mu</th>\n",
       "      <td>0.000001</td>\n",
       "      <td>7.918245</td>\n",
       "    </tr>\n",
       "    <tr>\n",
       "      <th>delta</th>\n",
       "      <td>0.923810</td>\n",
       "      <td>324.985961</td>\n",
       "    </tr>\n",
       "    <tr>\n",
       "      <th>phi</th>\n",
       "      <td>0.068592</td>\n",
       "      <td>46.548826</td>\n",
       "    </tr>\n",
       "  </tbody>\n",
       "</table>\n",
       "</div>"
      ],
      "text/plain": [
       "       Estimates  t statistics\n",
       "mu      0.000001      7.918245\n",
       "delta   0.923810    324.985961\n",
       "phi     0.068592     46.548826"
      ]
     },
     "execution_count": 8,
     "metadata": {},
     "output_type": "execute_result"
    }
   ],
   "source": [
    "h = np.var(ret, ddof=1) * np.ones(T)\n",
    "\n",
    "dh_mu = np.zeros(T)\n",
    "dh_delta = np.zeros(T)\n",
    "dh_phi = np.zeros(T)\n",
    "\n",
    "sum3 = np.zeros([3, 3])\n",
    "\n",
    "for t in range(1, T):\n",
    "    h[t] = estimates[0] + estimates[1] * h[t - 1] + estimates[2] * ret[t - 1]**2\n",
    "    \n",
    "    dlogp_h = - (1 / 2) * 1 / h[t] + (1 / 2) * ret[t]**2 / (h[t] ** 2)\n",
    "    \n",
    "    dh_mu[t] = 1 + estimates[1] * dh_mu[t - 1]\n",
    "    dh_delta[t] = h[t - 1] + estimates[1] * dh_delta[t - 1]\n",
    "    dh_phi[t] = ret[t - 1]**2 + estimates[1] * dh_phi[t - 1]\n",
    "\n",
    "    dh = np.array([dh_mu[t], dh_delta[t], dh_phi[t]]).T\n",
    "\n",
    "    grad = np.multiply(dlogp_h, dh)\n",
    "    sum3 = sum3 + np.outer(grad, grad)/T\n",
    "\n",
    "VarCov = (1 / T) * np.linalg.inv(sum3)\n",
    "t_stats = estimates / np.sqrt(np.diag(VarCov))\n",
    "\n",
    "table = pd.DataFrame({'Estimates': estimates, 't statistics': t_stats}, index = ['mu', 'delta','phi'])\n",
    "table"
   ]
  },
  {
   "cell_type": "markdown",
   "id": "0de0e0ba",
   "metadata": {},
   "source": [
    "## Value-at-Risk "
   ]
  },
  {
   "cell_type": "code",
   "execution_count": 9,
   "id": "34be12a8",
   "metadata": {},
   "outputs": [
    {
     "name": "stdout",
     "output_type": "stream",
     "text": [
      "The 1% Value-at-Risk for an investor holding a \"market-like\" portfolio is 13072.41\n"
     ]
    }
   ],
   "source": [
    "h_next = estimates[0] + estimates[1] * h[-1] + estimates[2] * ret[-1]**2\n",
    "VaR = 1000000 * 2.33 * np.sqrt(h_next)\n",
    "\n",
    "print(f'The 1% Value-at-Risk for an investor holding a \"market-like\" portfolio is {VaR:.2f}')"
   ]
  },
  {
   "cell_type": "code",
   "execution_count": null,
   "id": "36d81d40",
   "metadata": {},
   "outputs": [],
   "source": []
  }
 ],
 "metadata": {
  "kernelspec": {
   "display_name": "Python 3 (ipykernel)",
   "language": "python",
   "name": "python3"
  },
  "language_info": {
   "codemirror_mode": {
    "name": "ipython",
    "version": 3
   },
   "file_extension": ".py",
   "mimetype": "text/x-python",
   "name": "python",
   "nbconvert_exporter": "python",
   "pygments_lexer": "ipython3",
   "version": "3.9.13"
  }
 },
 "nbformat": 4,
 "nbformat_minor": 5
}
