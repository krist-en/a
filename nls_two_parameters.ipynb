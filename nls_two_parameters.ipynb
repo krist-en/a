{
 "cells": [
  {
   "cell_type": "markdown",
   "metadata": {
    "tags": []
   },
   "source": [
    "# Nonlinear least squares (with two parameters)  \n",
    "### This code estimates the model $$y_t = \\theta_1 x_t^{\\theta_2} + \\varepsilon_t$$ using a nonlinear least-squares procedure.     "
   ]
  },
  {
   "cell_type": "code",
   "execution_count": 1,
   "metadata": {
    "tags": []
   },
   "outputs": [
    {
     "name": "stdout",
     "output_type": "stream",
     "text": [
      "3.8.5\n"
     ]
    },
    {
     "data": {
      "text/plain": [
       "'/Users/Fbandi/Dropbox/nonlineareconometrics2024/FEDERICO/Python_codes'"
      ]
     },
     "execution_count": 1,
     "metadata": {},
     "output_type": "execute_result"
    }
   ],
   "source": [
    "import os\n",
    "from platform import python_version\n",
    "import pandas as pd\n",
    "import numpy as np\n",
    "import matplotlib.pyplot as plt\n",
    "import scipy.optimize\n",
    "\n",
    "# The recommended python version is 3.8 or 3.9\n",
    "print(python_version())\n",
    "# Check current directory\n",
    "os.getcwd()\n"
   ]
  },
  {
   "cell_type": "markdown",
   "metadata": {},
   "source": [
    "### We are simulating the data. We will set the parameter values as being equal to $(2,2)$ and both $x_t$ and $e_t$ as being normal with certain means and variances. Given the parameter values, $x_t$ and $e_t$, the model will yield $y_t.$ Of course, all quantities can be easily modified. "
   ]
  },
  {
   "cell_type": "code",
   "execution_count": 2,
   "metadata": {},
   "outputs": [],
   "source": [
    "# sample size\n",
    "sample_size = 1000      # Choose the number of observations - You can increase this number to see if the LLN would work\n",
    "\n",
    "# population parameters\n",
    "mean_of_x = 20           # mean of the regressor\n",
    "variance_of_x = 4        # variance of the regressor\n",
    "variance_of_e = 1000     # variance of the residual\n",
    "\n",
    "# The parameter values\n",
    "theta = [2,2] \n",
    "\n",
    "# generate x as a sample from the Normal distribution\n",
    "x = np.random.normal(mean_of_x, np.sqrt(variance_of_x), sample_size)\n",
    "\n",
    "# generate the residuals as a sample from the Normal distribution\n",
    "e = np.random.normal(0, np.sqrt(variance_of_e), sample_size)\n",
    "\n",
    "# generate y using the formula\n",
    "y =  theta[0]*(x**theta[1]) + e\n"
   ]
  },
  {
   "cell_type": "markdown",
   "metadata": {},
   "source": [
    "### Let us look at the data first. We want to make sure that we have generated enough dispersion (through the variance of the residuals) around the curve. In other words, we do not want all of the observations y and x to exactly sit on a curve. We want the model to be realistic."
   ]
  },
  {
   "cell_type": "code",
   "execution_count": 3,
   "metadata": {},
   "outputs": [
    {
     "data": {
      "text/plain": [
       "Text(0.5, 1.0, 'A scatterplot of the data')"
      ]
     },
     "execution_count": 3,
     "metadata": {},
     "output_type": "execute_result"
    },
    {
     "data": {
      "image/png": "[encoded data removed]",
      "text/plain": [
       "<Figure size 504x504 with 1 Axes>"
      ]
     },
     "metadata": {
      "needs_background": "light"
     },
     "output_type": "display_data"
    }
   ],
   "source": [
    "# Adjust the plot size on your computer\n",
    "plt.rcParams['figure.figsize'] = [7, 7]\n",
    "\n",
    "# A scatterplot with matplotlib\n",
    "plt.xlabel('x')\n",
    "plt.ylabel('y')\n",
    "plt.scatter(x, y) \n",
    "plt.scatter(x,theta[0]*(x**theta[1]), color = 'red')\n",
    "plt.title('A scatterplot of the data')"
   ]
  },
  {
   "cell_type": "markdown",
   "metadata": {},
   "source": [
    "### Now that we have the data, we are ready to begin. Let us go step by step.\n",
    "\n",
    "### (1) We define the least-squares criterion in a `Python function` called `nls`. The criterion is:\n",
    "\n",
    "\\begin{eqnarray*}\n",
    "&&\\frac{1}{T} \\sum_{t=1}^T \\varepsilon_t^2 \\\\\n",
    "&=& \\frac{1}{T} \\sum_{t=1}^T  \\left(y_t  - \\theta_1 x_t^{\\theta_2} \\right)^2.\\\\\n",
    "\\end{eqnarray*}\n"
   ]
  },
  {
   "cell_type": "code",
   "execution_count": 4,
   "metadata": {
    "scrolled": true,
    "tags": []
   },
   "outputs": [],
   "source": [
    "def nls(parameters, y, x):\n",
    "    f =  np.mean( (y -  parameters[0]*np.power( x, parameters[1] ))**2  )\n",
    "    return f"
   ]
  },
  {
   "cell_type": "markdown",
   "metadata": {},
   "source": [
    "### (2) We now minimize the function with respect to $\\theta_1$ and $\\theta_2:$\n",
    "\n",
    "\\begin{eqnarray*}\n",
    "(\\widehat{\\theta}_1, \\widehat{\\theta}_2) &=& \\arg\\min_{\\theta_1,\\theta_2}  \\frac{1}{T} \\sum_{t=1}^T \\varepsilon_t^2 \\\\\n",
    "&=&  \\arg\\min_{\\theta_1,\\theta_2} \\frac{1}{T} \\sum_{t=1}^T  \\left(y_t  - \\theta_1 x_t^{\\theta_2} \\right)^2\\\\\n",
    "\\end{eqnarray*}\n",
    "\n",
    "### In order to do so we have to feed the function into a minimizer: another function which will compute the minimum of the criterion. A possible function is `scipy.optimize.fmin`. \n",
    "\n",
    "The inputs of the `scipy.optimize.fmin` function are:\n",
    "\n",
    "1. `func`. The function to minimize - in our case `nls` - as defined in the previous snippet.\n",
    "2. `x0`. The initial guess of the parameters $\\theta_1$ and $\\theta_2$: `initial_guess`. This is just our initial guess of the parameters for evaluating the function `nls` at the beginning of the minimization.\n",
    "3. `args`. The arguments of the `nls` function that are not paramaters. For our problem, these are the data $y_t,x_t$ with $t=1,\\cdots, T$, contained in `y` and `x`, respectively.\n",
    "\n",
    "Additional inputs that are optional:\n",
    "\n",
    "4. `xtol` and `ftol`. This is the tolerance for the minimizer and the function evaluation, respectively. The algorithm will stop automatically when it cannot find another minimizer that is smaller by at least `xtol` than the current one. Same as for the function evaluation. \n",
    "5. `maxiter`. The maximum number of iterations to try. The algorithm stops if it reaches `maxiter` attempts, even if it did not find a minimum.\n",
    "6. `disp`. A variable indicating whether we want to see some results or not. `disp=0` will not show results, `disp=1` will provide additional information.\n"
   ]
  },
  {
   "cell_type": "code",
   "execution_count": 5,
   "metadata": {
    "tags": []
   },
   "outputs": [
    {
     "name": "stdout",
     "output_type": "stream",
     "text": [
      "The estimates are 1.980 and 2.003\n"
     ]
    }
   ],
   "source": [
    "initial_guess = [1,-1]\n",
    "estimates = scipy.optimize.fmin(func=nls, \n",
    "                                x0=initial_guess, \n",
    "                                args=(y, x), \n",
    "                                xtol=1e-5, \n",
    "                                ftol=1e-5, \n",
    "                                maxiter = 1000000, \n",
    "                                disp=0\n",
    "                                )\n",
    "\n",
    "print(f'The estimates are {estimates[0]:.3f} and {estimates[1]:.3f}')"
   ]
  },
  {
   "cell_type": "markdown",
   "metadata": {},
   "source": [
    "\n",
    "### Inference in Nonlinear Least Squares\n",
    "\n",
    "If we want to do inference we need to compute the variance-covariance matrix of $\\widehat{\\theta}_{NL}$, which has the following form: $$\\mathbb{V}(\\widehat{\\theta}_{NL}) = \\frac{1}{T} A_0^{-1} \\Omega_0 A_0^{-1},$$ where $$ \\Omega_0 = \\mathbb{E}\\left(\\varepsilon_t^2 \\frac{\\partial f(x_t,\\theta_0)}{\\partial \\theta} \\frac{\\partial f(x_t,\\theta_0)}{\\partial \\theta^\\top} \\right) $$ and\n",
    "$$ A_0 =  \\mathbb{E}\\left( \\frac{\\partial f(x_t,\\theta_0)}{\\partial \\theta} \\frac{\\partial f(x_t,\\theta_0)}{\\partial \\theta^\\top} \\right). $$\n",
    "\n",
    "**Notice that we are dividing by $\\frac{1}{T}$. By the CLT, in fact, $A_0^{-1} \\Omega_0 A_0^{-1}$ is the variance-covariance matrix of $\\sqrt{T}\\widehat{\\theta}_{NL}$. Because we want the variance-covariance matrix of $\\widehat{\\theta}_{NL}$, we need to divide by $T$.** \n",
    "\n",
    "All we need to do is compute the derivatives (which can be done manually) and then calculate sample analogues to the expectations. These sample analogues are just empirical means. The empirical means will be consistent for the corresponding expectations by the LLN.\n",
    "\n",
    "The derivatives are $$ \\frac{\\partial f(x_t,\\theta_1,\\theta_2)}{\\partial \\theta} = \\begin{bmatrix}\\frac{\\partial f(x_t,\\theta_1,\\theta_2)}{\\partial \\theta_1}  \\\\ \\frac{\\partial f(x_t,\\theta_1,\\theta_2)}{\\partial \\theta_2}  \\end{bmatrix} = \\begin{bmatrix}  x_t^{\\theta_2}  \\\\ \\theta_1 x_t^{\\theta_2}\\log(x_t) \\end{bmatrix}.$$\n",
    "\n",
    "Thus, we have:\n",
    "\n",
    "\\begin{equation*}\n",
    "\\widehat{\\Omega}_0 = \\frac{1}{T}\\sum_{t=1}^T \\widehat{\\varepsilon}_t^2 \\frac{\\partial f(x_t,\\widehat{\\theta}_{NL})}{\\partial \\theta} \\frac{\\partial f(x_t,\\widehat{\\theta}_{NL})}{\\partial \\theta^\\top} = \\frac{1}{T}\\sum_{t=1}^T \\widehat{\\varepsilon}_t^2 \\underbrace{\\begin{bmatrix}  x_t^{\\widehat{\\theta}_2}  \\\\ \\widehat{\\theta}_1 x_t^{\\widehat{\\theta}_2}\\log(x_t) \\end{bmatrix} \\begin{bmatrix}  x_t^{\\widehat{\\theta}_2} & \\widehat{\\theta}_1 x_t^{\\widehat{\\theta}_2}\\log(x_t) \\end{bmatrix}}_{\\textrm{outer product}} = \\frac{1}{T}\\sum_{t=1}^T \\widehat{\\varepsilon}_t^2 \\begin{bmatrix}  x_t^{2\\widehat{\\theta}_2}  & \\widehat{\\theta}_1 x_t^{2\\widehat{\\theta}_2}\\log(x_t) \\\\ \\widehat{\\theta}_1 x_t^{2\\widehat{\\theta}_2}\\log(x_t) & \\widehat{\\theta}^2_1 x_t^{2\\widehat{\\theta}_2}\\log^2(x_t) \\end{bmatrix},\n",
    "\\end{equation*}\n",
    "and\n",
    "\\begin{equation*}\n",
    "\\widehat{A}_0 = \\frac{1}{T}\\sum_{t=1}^T \\underbrace{\\begin{bmatrix}  x_t^{\\widehat{\\theta}_2}  \\\\ \\widehat{\\theta}_1 x_t^{\\widehat{\\theta}_2}\\log(x_t) \\end{bmatrix} \\begin{bmatrix}  x_t^{\\widehat{\\theta}_2} & \\widehat{\\theta}_1 x_t^{\\widehat{\\theta}_2}\\log(x_t) \\end{bmatrix}}_{\\textrm{outer product}} = \\frac{1}{T}\\sum_{t=1}^T \\begin{bmatrix}  x_t^{2\\widehat{\\theta}_2}  & \\widehat{\\theta}_1 x_t^{2\\widehat{\\theta}_2}\\log(x_t) \\\\ \\widehat{\\theta}_1 x_t^{2\\widehat{\\theta}_2}\\log(x_t) & \\widehat{\\theta}^2_1 x_t^{2\\widehat{\\theta}_2}\\log^2(x_t) \\end{bmatrix}.\n",
    "\\end{equation*}\n",
    "\n",
    "### We begin with $\\widehat{A}_0$. `We will compute the outer product of the gradient (as above) - for each t - and then average the outer products from the first one to the last one`."
   ]
  },
  {
   "cell_type": "code",
   "execution_count": 6,
   "metadata": {},
   "outputs": [],
   "source": [
    "#This command creates the gradient (for all times t)\n",
    "deriv = np.array([ x**estimates[1] ,  estimates[0]*(x**estimates[1])*np.log(x) ])  \n",
    "\n",
    "# This is the loop which averages the outer products, from the first time to the last one, \n",
    "# and puts them into a 2 times 2 array A_hat. \n",
    "A_hat = np.zeros((2,2))\n",
    "for t in range(sample_size):                                                                               \n",
    "        A_hat = A_hat + np.outer(deriv[:,t],deriv[:,t].T)/sample_size\n",
    "        # A_hat += np.outer(deriv[:,t],deriv[:,t].T)/sample_size       #This is a fancier Python way write the loop\n",
    "        \n",
    "# Now, we need to invert A_hat        \n",
    "invA_hat = np.linalg.inv(A_hat)        "
   ]
  },
  {
   "cell_type": "markdown",
   "metadata": {
    "tags": []
   },
   "source": [
    "### We now turn to $\\widehat{\\Omega}_0$. `We will compute the outer product of the gradient times the squared errors - for each t - and then average these quantities from the first one to the last one`."
   ]
  },
  {
   "cell_type": "code",
   "execution_count": 7,
   "metadata": {},
   "outputs": [],
   "source": [
    "#This is the loop which averages the outer products times the squared errors, from the first time to the last one, and puts them into a 2 times 2 array A_hat. \n",
    "Omega_hat = np.zeros((2,2))\n",
    "for t in range(sample_size):\n",
    "        Omega_hat += ((y[t]-estimates[0]*(x[t]**estimates[1]))**2)*np.outer(deriv[:,t] , deriv[:,t].T)/sample_size    "
   ]
  },
  {
   "cell_type": "markdown",
   "metadata": {},
   "source": [
    "### Finally, we compute $\\mathbb{V}(\\widehat{\\theta}_{NL})$"
   ]
  },
  {
   "cell_type": "code",
   "execution_count": 8,
   "metadata": {},
   "outputs": [
    {
     "name": "stdout",
     "output_type": "stream",
     "text": [
      "The t-statistic of the first parameter estimate is 25.837\n",
      "The t-statistic of the second parameter estimate is 156.968\n"
     ]
    }
   ],
   "source": [
    "#Now, we can compute the variance-covariance matrix of the estimates\n",
    "VarCov = (1/sample_size)*invA_hat @ Omega_hat @ invA_hat\n",
    "\n",
    "#The standard errors of the estimates are the square roots of the diagonal elements of VarCov \n",
    "S_errors = np.sqrt(np.diag(VarCov))\n",
    "\n",
    "#Given estimates and standar errors, we can compute t-statistics as the ratio between the two\n",
    "t_stats = estimates/S_errors\n",
    "\n",
    "print(f'The t-statistic of the first parameter estimate is {t_stats[0]:.3f}')\n",
    "print(f'The t-statistic of the second parameter estimate is {t_stats[1]:.3f}')"
   ]
  }
 ],
 "metadata": {
  "kernelspec": {
   "display_name": "Python 3",
   "language": "python",
   "name": "python3"
  },
  "language_info": {
   "codemirror_mode": {
    "name": "ipython",
    "version": 3
   },
   "file_extension": ".py",
   "mimetype": "text/x-python",
   "name": "python",
   "nbconvert_exporter": "python",
   "pygments_lexer": "ipython3",
   "version": "3.8.5"
  }
 },
 "nbformat": 4,
 "nbformat_minor": 5
}
